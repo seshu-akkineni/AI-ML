{
  "nbformat": 4,
  "nbformat_minor": 0,
  "metadata": {
    "colab": {
      "provenance": [],
      "authorship_tag": "ABX9TyMK7epq7LTIKvxxTWSe52Jq",
      "include_colab_link": true
    },
    "kernelspec": {
      "name": "python3",
      "display_name": "Python 3"
    },
    "language_info": {
      "name": "python"
    }
  },
  "cells": [
    {
      "cell_type": "markdown",
      "metadata": {
        "id": "view-in-github",
        "colab_type": "text"
      },
      "source": [
        "<a href=\"https://colab.research.google.com/github/seshu-akkineni/AI-ML/blob/main/ImageEncryption.ipynb\" target=\"_parent\"><img src=\"https://colab.research.google.com/assets/colab-badge.svg\" alt=\"Open In Colab\"/></a>"
      ]
    },
    {
      "cell_type": "code",
      "execution_count": 1,
      "metadata": {
        "colab": {
          "base_uri": "https://localhost:8080/"
        },
        "id": "ufZQZHWtprGt",
        "outputId": "e4d165a5-af51-44bd-9a27-0a01e2dbb4c0"
      },
      "outputs": [
        {
          "output_type": "stream",
          "name": "stdout",
          "text": [
            "Requirement already satisfied: pillow in /usr/local/lib/python3.10/dist-packages (9.4.0)\n",
            "Requirement already satisfied: cryptography in /usr/local/lib/python3.10/dist-packages (43.0.0)\n",
            "Requirement already satisfied: cffi>=1.12 in /usr/local/lib/python3.10/dist-packages (from cryptography) (1.16.0)\n",
            "Requirement already satisfied: pycparser in /usr/local/lib/python3.10/dist-packages (from cffi>=1.12->cryptography) (2.22)\n"
          ]
        }
      ],
      "source": [
        "pip install pillow cryptography\n"
      ]
    },
    {
      "cell_type": "code",
      "source": [
        "from cryptography.hazmat.primitives.ciphers import Cipher, algorithms, modes\n",
        "from cryptography.hazmat.primitives.kdf.pbkdf2 import PBKDF2HMAC\n",
        "from cryptography.hazmat.primitives import hashes\n",
        "from cryptography.hazmat.backends import default_backend\n",
        "from PIL import Image\n",
        "import os\n",
        "import base64\n",
        "import io\n",
        "\n",
        "def encrypt_image(image_path, password):\n",
        "    # Read the image\n",
        "    with open(\"/content/samplee.jpg\", 'rb') as image_file:\n",
        "        image_data = image_file.read()\n",
        "\n",
        "    # Generate a random salt\n",
        "    salt = os.urandom(16)\n",
        "\n",
        "    # Derive a key from the password\n",
        "    kdf = PBKDF2HMAC(\n",
        "        algorithm=hashes.SHA256(),\n",
        "        length=32,\n",
        "        salt=salt,\n",
        "        iterations=100000,\n",
        "        backend=default_backend()\n",
        "    )\n",
        "    key = kdf.derive(password.encode())\n",
        "\n",
        "    # Generate a random initialization vector\n",
        "    iv = os.urandom(16)\n",
        "\n",
        "    # Create the cipher object\n",
        "    cipher = Cipher(algorithms.AES(key), modes.CFB(iv), backend=default_backend())\n",
        "    encryptor = cipher.encryptor()\n",
        "\n",
        "    # Encrypt the image data\n",
        "    encrypted_data = encryptor.update(image_data) + encryptor.finalize()\n",
        "\n",
        "    # Combine salt, iv, and encrypted data\n",
        "    encrypted_image = salt + iv + encrypted_data\n",
        "\n",
        "    # Save the encrypted image\n",
        "    encrypted_image_path = image_path + '.enc'\n",
        "    with open(encrypted_image_path, 'wb') as encrypted_file:\n",
        "        encrypted_file.write(encrypted_image)\n",
        "\n",
        "    print(f\"Image encrypted and saved as {encrypted_image_path}\")\n",
        "\n",
        "# Example usage\n",
        "encrypt_image('samplee.jpeg', 'your_password')\n"
      ],
      "metadata": {
        "colab": {
          "base_uri": "https://localhost:8080/"
        },
        "id": "9R0bZQDfpvi3",
        "outputId": "c2760e16-be34-4ec6-f502-16b91eac0b64"
      },
      "execution_count": 3,
      "outputs": [
        {
          "output_type": "stream",
          "name": "stdout",
          "text": [
            "Image encrypted and saved as samplee.jpeg.enc\n"
          ]
        }
      ]
    },
    {
      "cell_type": "code",
      "source": [
        "def decrypt_image(encrypted_image_path, password):\n",
        "    # Read the encrypted image\n",
        "    with open(\"/content/samplee.jpeg.enc\", 'rb') as encrypted_file:\n",
        "        encrypted_image = encrypted_file.read()\n",
        "\n",
        "    # Extract the salt, iv, and encrypted data\n",
        "    salt = encrypted_image[:16]\n",
        "    iv = encrypted_image[16:32]\n",
        "    encrypted_data = encrypted_image[32:]\n",
        "\n",
        "    # Derive the key from the password\n",
        "    kdf = PBKDF2HMAC(\n",
        "        algorithm=hashes.SHA256(),\n",
        "        length=32,\n",
        "        salt=salt,\n",
        "        iterations=100000,\n",
        "        backend=default_backend()\n",
        "    )\n",
        "    key = kdf.derive(password.encode())\n",
        "\n",
        "    # Create the cipher object\n",
        "    cipher = Cipher(algorithms.AES(key), modes.CFB(iv), backend=default_backend())\n",
        "    decryptor = cipher.decryptor()\n",
        "\n",
        "    # Decrypt the data\n",
        "    decrypted_data = decryptor.update(encrypted_data) + decryptor.finalize()\n",
        "\n",
        "    # Convert bytes back to image\n",
        "    decrypted_image = Image.open(io.BytesIO(decrypted_data))\n",
        "\n",
        "    # Save the decrypted image\n",
        "    decrypted_image_path = encrypted_image_path.replace('.enc', '_decrypted.jpg')\n",
        "    decrypted_image.save(decrypted_image_path)\n",
        "\n",
        "    print(f\"Image decrypted and saved as {decrypted_image_path}\")\n",
        "\n",
        "# Example usage\n",
        "decrypt_image('example_image.jpg.enc', 'your_password')\n"
      ],
      "metadata": {
        "colab": {
          "base_uri": "https://localhost:8080/"
        },
        "id": "DICZXsp7q3UE",
        "outputId": "aa299348-0258-4310-b033-847132cde859"
      },
      "execution_count": 4,
      "outputs": [
        {
          "output_type": "stream",
          "name": "stdout",
          "text": [
            "Image decrypted and saved as example_image.jpg_decrypted.jpg\n"
          ]
        }
      ]
    }
  ]
}